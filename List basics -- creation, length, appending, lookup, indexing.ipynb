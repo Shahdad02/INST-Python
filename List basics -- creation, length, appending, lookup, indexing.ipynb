{
 "cells": [
  {
   "cell_type": "markdown",
   "id": "2025231e",
   "metadata": {},
   "source": [
    "# List basics: Creation, length, appending, lookup, indexing\n",
    "\n",
    "\n",
    "#### INST126 Spring 2023 (Prof. Ciampaglia)\n",
    "\n",
    "1. Define a list with three elements in it"
   ]
  },
  {
   "cell_type": "code",
   "execution_count": null,
   "id": "01463561",
   "metadata": {},
   "outputs": [],
   "source": [
    "colors = ['red', ' yellow', 'blue']"
   ]
  },
  {
   "cell_type": "code",
   "execution_count": null,
   "id": "b71185fe",
   "metadata": {},
   "outputs": [],
   "source": [
    "colors"
   ]
  },
  {
   "cell_type": "markdown",
   "id": "8dcb4c49",
   "metadata": {},
   "source": [
    "2. Get the length of the list with the `len` function"
   ]
  },
  {
   "cell_type": "code",
   "execution_count": null,
   "id": "29ea2892",
   "metadata": {},
   "outputs": [],
   "source": [
    "len(colors)"
   ]
  },
  {
   "cell_type": "markdown",
   "id": "6d9e56d9",
   "metadata": {},
   "source": [
    "3. Add a new element"
   ]
  },
  {
   "cell_type": "code",
   "execution_count": null,
   "id": "70c5e56a",
   "metadata": {},
   "outputs": [],
   "source": [
    "colors.append('green')"
   ]
  },
  {
   "cell_type": "markdown",
   "id": "1ed4b78e",
   "metadata": {},
   "source": [
    "Now go back to the `len` cell (step 2) and re-run it. What do you see?"
   ]
  },
  {
   "cell_type": "markdown",
   "id": "597e222b",
   "metadata": {},
   "source": [
    "---\n",
    "\n",
    "4. We use item lookup / referencing to retrieve the fourth element of the list using an index (specified as an int literal in this case)"
   ]
  },
  {
   "cell_type": "code",
   "execution_count": null,
   "id": "b074c5f4",
   "metadata": {},
   "outputs": [],
   "source": [
    "colors[3]"
   ]
  },
  {
   "cell_type": "markdown",
   "id": "8698ca7d",
   "metadata": {},
   "source": [
    "5. Item lookup is just an expression. This means you can use it in other expressions. For example string concatenation together with item lookup allows us to create messages from the colors stored as list elements."
   ]
  },
  {
   "cell_type": "code",
   "execution_count": null,
   "id": "43f85abc",
   "metadata": {},
   "outputs": [],
   "source": [
    "\"The color of the grass is \" + colors[3]"
   ]
  },
  {
   "cell_type": "markdown",
   "id": "4f63518a",
   "metadata": {},
   "source": [
    "6. The usual rules about expressions apply: the type of the operands determines whether an expression is valid or not. Summing a string with an int will throw a type error."
   ]
  },
  {
   "cell_type": "code",
   "execution_count": null,
   "id": "959b810b",
   "metadata": {},
   "outputs": [],
   "source": [
    "colors[3] + 1"
   ]
  },
  {
   "cell_type": "markdown",
   "id": "947447ea",
   "metadata": {},
   "source": [
    "7. Item referencing can be used as part of assignments. This updates the value at the specified index with a new value."
   ]
  },
  {
   "cell_type": "code",
   "execution_count": null,
   "id": "309ce9bb",
   "metadata": {},
   "outputs": [],
   "source": [
    "colors[3] = 10"
   ]
  },
  {
   "cell_type": "markdown",
   "id": "44732bb7",
   "metadata": {},
   "source": [
    "8. Now go back to the cell with the expression that was trying to add 1 to the element in the list (step 6) and run it again. What do you see?"
   ]
  },
  {
   "cell_type": "markdown",
   "id": "87d4db15",
   "metadata": {},
   "source": [
    "---\n",
    "9. Indexes start at 0 so if we want to update the first element of the list we need to do this:"
   ]
  },
  {
   "cell_type": "code",
   "execution_count": null,
   "id": "c42626a4",
   "metadata": {},
   "outputs": [],
   "source": [
    "colors[0] = \"Hello!\""
   ]
  },
  {
   "cell_type": "markdown",
   "id": "1628fe47",
   "metadata": {},
   "source": [
    "and then this:"
   ]
  },
  {
   "cell_type": "code",
   "execution_count": null,
   "id": "97b8f4da",
   "metadata": {},
   "outputs": [],
   "source": [
    "colors"
   ]
  },
  {
   "cell_type": "markdown",
   "id": "2bdad6f5",
   "metadata": {},
   "source": [
    "10. The index for item lookup does not need to be a literal. I can use any expression that evaluates to an integer. For example an atomic expression. However one needs to be careful to use indexes that are within the range of positions of the elements of the list. If I specify a position with no element, I will get an error. For example, ask for element at index 4 (position 5)"
   ]
  },
  {
   "cell_type": "code",
   "execution_count": null,
   "id": "3005f408",
   "metadata": {},
   "outputs": [],
   "source": [
    "idx = 4"
   ]
  },
  {
   "cell_type": "code",
   "execution_count": null,
   "id": "8a7d3937",
   "metadata": {},
   "outputs": [],
   "source": [
    "colors[idx] = \"UMD\""
   ]
  },
  {
   "cell_type": "markdown",
   "id": "a49041b7",
   "metadata": {},
   "source": [
    "11. I cannot \"grow\" a list by adding to non-existing slots in it. One way to get around this could be to append `None` as a placeholder):"
   ]
  },
  {
   "cell_type": "code",
   "execution_count": null,
   "id": "da06bcee",
   "metadata": {},
   "outputs": [],
   "source": [
    "colors.append(None)"
   ]
  },
  {
   "cell_type": "markdown",
   "id": "3cfa502f",
   "metadata": {},
   "source": [
    "12. Now go back to the previous cell and try to assign the string `\"UMD\"` again (step 10). What do you see now?\n",
    "\n",
    "---\n",
    "\n",
    "13. If all went well, you should not see an error anymore. If that is the case, you can confirm that there is now a new element by looking up again what at the index stored in the `idx` variable:"
   ]
  },
  {
   "cell_type": "code",
   "execution_count": null,
   "id": "d38a0a55",
   "metadata": {},
   "outputs": [],
   "source": [
    "colors[idx]"
   ]
  },
  {
   "cell_type": "markdown",
   "id": "2342bbd3",
   "metadata": {},
   "source": [
    "14. The length of the list is elements in it. Let's print the list contents:"
   ]
  },
  {
   "cell_type": "code",
   "execution_count": null,
   "id": "439bb094",
   "metadata": {},
   "outputs": [],
   "source": [
    "print(colors)"
   ]
  },
  {
   "cell_type": "markdown",
   "id": "e2c2cf00",
   "metadata": {},
   "source": [
    "15. The builtin function `len` will give you the length:"
   ]
  },
  {
   "cell_type": "code",
   "execution_count": null,
   "id": "9708b9d5",
   "metadata": {},
   "outputs": [],
   "source": [
    "len(colors)"
   ]
  },
  {
   "cell_type": "markdown",
   "id": "5b76fa1c",
   "metadata": {},
   "source": [
    "16. Finally, negative indexes allow me to lookup element starting from the tail of the list (the last position) instead of the head (the first position)."
   ]
  },
  {
   "cell_type": "code",
   "execution_count": null,
   "id": "0b220ff7",
   "metadata": {},
   "outputs": [],
   "source": [
    "colors[-3]"
   ]
  },
  {
   "cell_type": "markdown",
   "id": "15cd8c08",
   "metadata": {},
   "source": [
    "17. To delete an element"
   ]
  },
  {
   "cell_type": "code",
   "execution_count": null,
   "id": "c649e658",
   "metadata": {},
   "outputs": [],
   "source": [
    "del colors[]"
   ]
  },
  {
   "cell_type": "markdown",
   "id": "4f554dec",
   "metadata": {},
   "source": [
    "17. true false value if this value is in this list"
   ]
  },
  {
   "cell_type": "code",
   "execution_count": null,
   "id": "88d2028d",
   "metadata": {},
   "outputs": [],
   "source": [
    "\"\" in colors"
   ]
  }
 ],
 "metadata": {
  "kernelspec": {
   "display_name": "Python 3 (ipykernel)",
   "language": "python",
   "name": "python3"
  },
  "language_info": {
   "codemirror_mode": {
    "name": "ipython",
    "version": 3
   },
   "file_extension": ".py",
   "mimetype": "text/x-python",
   "name": "python",
   "nbconvert_exporter": "python",
   "pygments_lexer": "ipython3",
   "version": "3.9.13"
  }
 },
 "nbformat": 4,
 "nbformat_minor": 5
}
