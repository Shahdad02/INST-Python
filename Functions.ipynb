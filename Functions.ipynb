{
 "cells": [
  {
   "cell_type": "code",
   "execution_count": 1,
   "id": "a7a291f4-31e1-4d38-91a4-249776e8c6e5",
   "metadata": {},
   "outputs": [
    {
     "ename": "SyntaxError",
     "evalue": "invalid syntax (3205396736.py, line 1)",
     "output_type": "error",
     "traceback": [
      "\u001b[1;36m  File \u001b[1;32m\"C:\\Users\\shahk\\AppData\\Local\\Temp\\ipykernel_17792\\3205396736.py\"\u001b[1;36m, line \u001b[1;32m1\u001b[0m\n\u001b[1;33m    def paycheck(rate, hours)\u001b[0m\n\u001b[1;37m                             ^\u001b[0m\n\u001b[1;31mSyntaxError\u001b[0m\u001b[1;31m:\u001b[0m invalid syntax\n"
     ]
    }
   ],
   "source": [
    "def paycheck(rate, hours)\n",
    "    pay = rate * hours\n",
    "    return pay"
   ]
  },
  {
   "cell_type": "code",
   "execution_count": 2,
   "id": "e5b5a7d8-31a0-49a3-8670-4b64ce80aab1",
   "metadata": {},
   "outputs": [],
   "source": [
    "def paycheck(rate, hours):\n",
    "    pay = rate * hours\n",
    "    return pay"
   ]
  },
  {
   "cell_type": "code",
   "execution_count": 3,
   "id": "c3ce777f-779f-4f37-a663-e44d665ca56b",
   "metadata": {},
   "outputs": [
    {
     "data": {
      "text/plain": [
       "300.0"
      ]
     },
     "execution_count": 3,
     "metadata": {},
     "output_type": "execute_result"
    }
   ],
   "source": [
    "paycheck(15.00, 20)"
   ]
  },
  {
   "cell_type": "code",
   "execution_count": 4,
   "id": "f652913c-9d9e-4ad5-ba62-2c110b347509",
   "metadata": {},
   "outputs": [
    {
     "data": {
      "text/plain": [
       "625.0"
      ]
     },
     "execution_count": 4,
     "metadata": {},
     "output_type": "execute_result"
    }
   ],
   "source": [
    "paycheck(12.50, 50)"
   ]
  },
  {
   "cell_type": "code",
   "execution_count": 5,
   "id": "fb561594-0d25-4163-9f19-58db03d800a7",
   "metadata": {},
   "outputs": [],
   "source": [
    "def paycheck(rate, hours):\n",
    "    pay = float(rate) * float(hours)\n",
    "    return pay"
   ]
  },
  {
   "cell_type": "code",
   "execution_count": 6,
   "id": "542c404e-bad3-402b-8817-988b90d9b147",
   "metadata": {},
   "outputs": [
    {
     "data": {
      "text/plain": [
       "625.0"
      ]
     },
     "execution_count": 6,
     "metadata": {},
     "output_type": "execute_result"
    }
   ],
   "source": [
    "paycheck(12.50, 50)"
   ]
  },
  {
   "cell_type": "code",
   "execution_count": 7,
   "id": "2020a055-e1fe-4491-aac6-1a06510d2a4a",
   "metadata": {},
   "outputs": [
    {
     "data": {
      "text/plain": [
       "315.0"
      ]
     },
     "execution_count": 7,
     "metadata": {},
     "output_type": "execute_result"
    }
   ],
   "source": [
    "paycheck(12.50, 25.2)"
   ]
  },
  {
   "cell_type": "code",
   "execution_count": 8,
   "id": "160a7f29-413d-4b1b-86e7-7a1830d28059",
   "metadata": {},
   "outputs": [
    {
     "data": {
      "text/plain": [
       "65.675"
      ]
     },
     "execution_count": 8,
     "metadata": {},
     "output_type": "execute_result"
    }
   ],
   "source": [
    "paycheck(12.50, 5.254)"
   ]
  },
  {
   "cell_type": "code",
   "execution_count": null,
   "id": "cffd095c-67fb-4a35-a792-f30fd53b86ed",
   "metadata": {},
   "outputs": [],
   "source": []
  }
 ],
 "metadata": {
  "kernelspec": {
   "display_name": "Python 3 (ipykernel)",
   "language": "python",
   "name": "python3"
  },
  "language_info": {
   "codemirror_mode": {
    "name": "ipython",
    "version": 3
   },
   "file_extension": ".py",
   "mimetype": "text/x-python",
   "name": "python",
   "nbconvert_exporter": "python",
   "pygments_lexer": "ipython3",
   "version": "3.9.13"
  }
 },
 "nbformat": 4,
 "nbformat_minor": 5
}
